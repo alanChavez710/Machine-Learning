{
 "cells": [
  {
   "cell_type": "code",
   "execution_count": 1,
   "metadata": {
    "id": "GcAOYYP1RdUc"
   },
   "outputs": [],
   "source": [
    "from keras.datasets import mnist     # Get MNIST dataset from Keras\n",
    "from keras.models import Sequential  # Model type to be used\n",
    "from keras.layers.core import Dense, Dropout, Activation # Types of layers for the model\n",
    "from keras.utils import np_utils  # for converting array of labeled data to one-hot vector. \n",
    "\n",
    "import matplotlib.pyplot as plt\n",
    "import numpy as np                   # advanced math library\n",
    "import random                        # for generating random numbers"
   ]
  },
  {
   "cell_type": "code",
   "execution_count": 2,
   "metadata": {
    "colab": {
     "base_uri": "https://localhost:8080/"
    },
    "id": "ccUnPEtYSTY5",
    "outputId": "554d28f5-8b20-44a0-e0cb-9a0e2a30f410"
   },
   "outputs": [
    {
     "name": "stdout",
     "output_type": "stream",
     "text": [
      "Downloading data from https://storage.googleapis.com/tensorflow/tf-keras-datasets/mnist.npz\n",
      "11490434/11490434 [==============================] - 1s 0us/step\n"
     ]
    }
   ],
   "source": [
    "# 60,000 for training, 10000 for test\n",
    "(X_train, y_train), (X_test, y_test) = mnist.load_data()"
   ]
  },
  {
   "cell_type": "code",
   "execution_count": 3,
   "metadata": {
    "id": "tWm-xxw4TZ_1"
   },
   "outputs": [],
   "source": [
    "# Reshape 28*28 matrices into vectors\n",
    "X_train = X_train.reshape(60000, 784) \n",
    "X_test = X_test.reshape(10000, 784)\n",
    "\n",
    "# change integers to 32-bit floating point numbers\n",
    "X_train = X_train.astype('float32')  \n",
    "X_test = X_test.astype('float32')\n",
    "\n",
    "# normalize the inputs to be in the range [0-1] instead of [0-255].\n",
    "X_train /= 255                       \n",
    "X_test /= 255"
   ]
  },
  {
   "cell_type": "code",
   "execution_count": 4,
   "metadata": {
    "id": "qseuc5g0VF6P"
   },
   "outputs": [],
   "source": [
    "# Modify classes to be in the one-hot format.\n",
    "nb_classes = 10 # number of digits\n",
    "Y_train = np_utils.to_categorical(y_train, nb_classes)\n",
    "Y_test = np_utils.to_categorical(y_test, nb_classes)"
   ]
  },
  {
   "cell_type": "code",
   "execution_count": 5,
   "metadata": {
    "colab": {
     "base_uri": "https://localhost:8080/"
    },
    "id": "b4QSxY6eWev3",
    "outputId": "95b5e3a5-69c2-4d43-b550-3d863cf10c3a",
    "scrolled": true
   },
   "outputs": [
    {
     "name": "stdout",
     "output_type": "stream",
     "text": [
      "Model: \"sequential\"\n",
      "_________________________________________________________________\n",
      " Layer (type)                Output Shape              Param #   \n",
      "=================================================================\n",
      " dense (Dense)               (None, 500)               392500    \n",
      "                                                                 \n",
      " activation (Activation)     (None, 500)               0         \n",
      "                                                                 \n",
      " dropout (Dropout)           (None, 500)               0         \n",
      "                                                                 \n",
      " dense_1 (Dense)             (None, 500)               250500    \n",
      "                                                                 \n",
      " activation_1 (Activation)   (None, 500)               0         \n",
      "                                                                 \n",
      " dropout_1 (Dropout)         (None, 500)               0         \n",
      "                                                                 \n",
      " dense_2 (Dense)             (None, 10)                5010      \n",
      "                                                                 \n",
      " activation_2 (Activation)   (None, 10)                0         \n",
      "                                                                 \n",
      "=================================================================\n",
      "Total params: 648,010\n",
      "Trainable params: 648,010\n",
      "Non-trainable params: 0\n",
      "_________________________________________________________________\n"
     ]
    }
   ],
   "source": [
    "# model is a linear stack of layers\n",
    "model = Sequential()\n",
    "# The first hidden layer has 500 neurons\n",
    "model.add(Dense(500, input_shape=(784,))) # 784 is the length of vector\n",
    "model.add(Activation('relu'))\n",
    "model.add(Dropout(0.2)) # protect the model from overfitting \n",
    "# The second hidden layer has 500 neurons, too\n",
    "model.add(Dense(500))\n",
    "model.add(Activation('relu'))\n",
    "model.add(Dropout(0.2))\n",
    "# The final layer is output that has 10 classes\n",
    "model.add(Dense(10))\n",
    "model.add(Activation('softmax'))\n",
    "\n",
    "# Summarize the built model\n",
    "model.summary()"
   ]
  },
  {
   "cell_type": "code",
   "execution_count": 6,
   "metadata": {
    "id": "LvTX1GGzisgg"
   },
   "outputs": [],
   "source": [
    "# categorical cross-entropy is a loss function to comparing two probability distributions.\n",
    "# use the Adam optimizer for learning\n",
    "# The optimizer helps determine how quickly the model learns through gradient descent. \n",
    "model.compile(loss='categorical_crossentropy', optimizer='adam', metrics=['accuracy'])"
   ]
  },
  {
   "cell_type": "code",
   "execution_count": 7,
   "metadata": {
    "colab": {
     "base_uri": "https://localhost:8080/"
    },
    "id": "ukFJ_OMAi2g7",
    "outputId": "2dbd11d8-9641-43a6-9441-198b2e595ab4"
   },
   "outputs": [
    {
     "name": "stdout",
     "output_type": "stream",
     "text": [
      "Epoch 1/5\n",
      "469/469 [==============================] - 9s 17ms/step - loss: 0.2481 - accuracy: 0.9267\n",
      "Epoch 2/5\n",
      "469/469 [==============================] - 8s 17ms/step - loss: 0.0997 - accuracy: 0.9694\n",
      "Epoch 3/5\n",
      "469/469 [==============================] - 8s 17ms/step - loss: 0.0723 - accuracy: 0.9774\n",
      "Epoch 4/5\n",
      "469/469 [==============================] - 8s 16ms/step - loss: 0.0568 - accuracy: 0.9826\n",
      "Epoch 5/5\n",
      "469/469 [==============================] - 8s 17ms/step - loss: 0.0480 - accuracy: 0.9841\n"
     ]
    },
    {
     "data": {
      "text/plain": [
       "<keras.callbacks.History at 0x7fd357257f90>"
      ]
     },
     "execution_count": 7,
     "metadata": {},
     "output_type": "execute_result"
    }
   ],
   "source": [
    "#Training\n",
    "model.fit(X_train, Y_train, batch_size=128, epochs=5, verbose=1)"
   ]
  },
  {
   "cell_type": "code",
   "execution_count": 8,
   "metadata": {
    "colab": {
     "base_uri": "https://localhost:8080/"
    },
    "id": "-1SiZZB3jjdb",
    "outputId": "dee25dbb-803a-4e09-e581-7f1dc4348326"
   },
   "outputs": [
    {
     "name": "stdout",
     "output_type": "stream",
     "text": [
      "313/313 [==============================] - 1s 4ms/step - loss: 0.0623 - accuracy: 0.9808\n",
      "Test loss: 0.06227906420826912\n",
      "Test accuracy: 0.9807999730110168\n"
     ]
    }
   ],
   "source": [
    "#Evaluation\n",
    "score = model.evaluate(X_test, Y_test)\n",
    "print('Test loss:', score[0])\n",
    "print('Test accuracy:', score[1])"
   ]
  },
  {
   "cell_type": "code",
   "execution_count": 9,
   "metadata": {
    "colab": {
     "base_uri": "https://localhost:8080/"
    },
    "id": "fQHKGVs7oP0P",
    "outputId": "fd3e6286-769d-4cb1-8971-53e21dd83bc9"
   },
   "outputs": [
    {
     "name": "stdout",
     "output_type": "stream",
     "text": [
      "313/313 [==============================] - 1s 4ms/step\n"
     ]
    },
    {
     "data": {
      "text/plain": [
       "0"
      ]
     },
     "execution_count": 9,
     "metadata": {},
     "output_type": "execute_result"
    }
   ],
   "source": [
    "#prediction\n",
    "prediction=model.predict([X_test])\n",
    "np.argmax(prediction[10]) # argmax() returns indices of the max element of the array"
   ]
  },
  {
   "cell_type": "code",
   "execution_count": 10,
   "metadata": {
    "colab": {
     "base_uri": "https://localhost:8080/",
     "height": 282
    },
    "id": "oCsnRe7jpZ17",
    "outputId": "108a3467-e062-4936-e8e5-2d7c7f9041a3"
   },
   "outputs": [
    {
     "data": {
      "text/plain": [
       "<matplotlib.image.AxesImage at 0x7fd35591fb50>"
      ]
     },
     "execution_count": 10,
     "metadata": {},
     "output_type": "execute_result"
    },
    {
     "data": {
      "image/png": "[encoded data removed]",
      "text/plain": [
       "<Figure size 432x288 with 1 Axes>"
      ]
     },
     "metadata": {
      "needs_background": "light"
     },
     "output_type": "display_data"
    }
   ],
   "source": [
    "some_digit=X_test[10]\n",
    "some_digit_image = some_digit.reshape(28, 28)\n",
    "# display it using Matplotlib\n",
    "plt.imshow(some_digit_image)"
   ]
  }
 ],
 "metadata": {
  "colab": {
   "provenance": []
  },
  "kernelspec": {
   "display_name": "Python 3 (ipykernel)",
   "language": "python",
   "name": "python3"
  },
  "language_info": {
   "codemirror_mode": {
    "name": "ipython",
    "version": 3
   },
   "file_extension": ".py",
   "mimetype": "text/x-python",
   "name": "python",
   "nbconvert_exporter": "python",
   "pygments_lexer": "ipython3",
   "version": "3.9.13"
  }
 },
 "nbformat": 4,
 "nbformat_minor": 1
}
