{
 "cells": [
  {
   "cell_type": "code",
   "execution_count": 1,
   "id": "7e13fab2",
   "metadata": {},
   "outputs": [],
   "source": [
    "#libraries\n",
    "import numpy as np\n",
    "import pandas as pd\n",
    "import matplotlib.pyplot as plt"
   ]
  },
  {
   "cell_type": "code",
   "execution_count": 21,
   "id": "2dd5623b",
   "metadata": {},
   "outputs": [
    {
     "data": {
      "text/plain": [
       "['data',\n",
       " 'target',\n",
       " 'frame',\n",
       " 'target_names',\n",
       " 'DESCR',\n",
       " 'feature_names',\n",
       " 'filename',\n",
       " 'data_module']"
      ]
     },
     "execution_count": 21,
     "metadata": {},
     "output_type": "execute_result"
    }
   ],
   "source": [
    "# Build a classifier to detect the Iris-Virginica type\n",
    "#               based only on the petal width feature.\n",
    "# upload the dataset \n",
    "from sklearn import datasets\n",
    "iris = datasets.load_iris()\n",
    "list(iris.keys())"
   ]
  },
  {
   "cell_type": "code",
   "execution_count": 22,
   "id": "f1d4a693",
   "metadata": {},
   "outputs": [],
   "source": [
    "#Petal width\n",
    "X = iris[\"data\"][:, 3:] \n",
    "# 1 if Iris-Virginica, else 0\n",
    "y = (iris[\"target\"] == 2).astype(int) "
   ]
  },
  {
   "cell_type": "code",
   "execution_count": 8,
   "id": "659a55fa",
   "metadata": {},
   "outputs": [
    {
     "data": {
      "text/plain": [
       "LogisticRegression()"
      ]
     },
     "execution_count": 8,
     "metadata": {},
     "output_type": "execute_result"
    }
   ],
   "source": [
    "#Train a Logistic Regression model\n",
    "from sklearn.linear_model import LogisticRegression\n",
    "log_reg = LogisticRegression()\n",
    "log_reg.fit(X, y)"
   ]
  },
  {
   "cell_type": "code",
   "execution_count": 9,
   "id": "05168a97",
   "metadata": {},
   "outputs": [
    {
     "data": {
      "text/plain": [
       "[Text(0.5, 0, 'Petal width'), Text(0, 0.5, 'Probability')]"
      ]
     },
     "execution_count": 9,
     "metadata": {},
     "output_type": "execute_result"
    },
    {
     "data": {
      "image/png": "[encoded data removed]",
      "text/plain": [
       "<Figure size 432x288 with 1 Axes>"
      ]
     },
     "metadata": {
      "needs_background": "light"
     },
     "output_type": "display_data"
    }
   ],
   "source": [
    "# Model’s estimated probabilities for flowers with petal widths \n",
    "#                                       varying from 0 to 3 cm\n",
    "X_new = np.linspace(0, 3, 1000).reshape(-1, 1) # result with 1 column\n",
    "y_proba = log_reg.predict_proba(X_new)\n",
    "ax = plt.axes()\n",
    "ax.plot(X_new, y_proba[:, 1], \"g-\", label=\"Iris-Virginica\")\n",
    "ax.plot(X_new, y_proba[:, 0], \"b--\", label=\"Not Iris-Virginica\")\n",
    "ax.set(xlabel='Petal width',\n",
    "       ylabel='Probability')\n",
    "# Decision boundary at around 1.6 cm where both probabilities are equal to\n",
    "# 50%:If the petal width is higher than 1.6 cm, the classifier will predict  \n",
    "# that the flower is an Iris-Virginica, or else it will predict that it \n",
    "# is not."
   ]
  },
  {
   "cell_type": "code",
   "execution_count": 10,
   "id": "e70f1e31",
   "metadata": {},
   "outputs": [
    {
     "name": "stdout",
     "output_type": "stream",
     "text": [
      "[1 0]\n"
     ]
    }
   ],
   "source": [
    "#prediction\n",
    "y_proba = log_reg.predict([[1.7], [1.5]])\n",
    "print(y_proba)"
   ]
  },
  {
   "cell_type": "code",
   "execution_count": 11,
   "id": "6e91516b",
   "metadata": {},
   "outputs": [
    {
     "data": {
      "text/plain": [
       "LogisticRegression(C=10, multi_class='multinomial')"
      ]
     },
     "execution_count": 11,
     "metadata": {},
     "output_type": "execute_result"
    }
   ],
   "source": [
    "# Softmax Regression to classify the iris flowers into all three classes.\n",
    "X = iris[\"data\"][:, (2, 3)] # petal length, petal width\n",
    "y = iris[\"target\"]\n",
    "# Scikit-Learn’s LogisticRegression uses one-versus-all by default \n",
    "# set the multi_class hyperparameter to \"multinomial\" to switch it to Softmax Regression \n",
    "#Solver is an algorithm to use in the optimization problem. Default is ‘lbfgs’.\n",
    "softmax_reg = LogisticRegression(multi_class=\"multinomial\",solver=\"lbfgs\", C=10)\n",
    "softmax_reg.fit(X, y) # training"
   ]
  },
  {
   "cell_type": "code",
   "execution_count": 12,
   "id": "7d493c90",
   "metadata": {},
   "outputs": [
    {
     "name": "stdout",
     "output_type": "stream",
     "text": [
      "[2]\n"
     ]
    },
    {
     "data": {
      "text/plain": [
       "array([[6.38014896e-07, 5.74929995e-02, 9.42506362e-01]])"
      ]
     },
     "execution_count": 12,
     "metadata": {},
     "output_type": "execute_result"
    }
   ],
   "source": [
    "# Predict for an iris with 5 cm long and 2 cm wide petals\n",
    "print(softmax_reg.predict([[5, 2]]))\n",
    "# Answer is Iris-Virginica (class 2)\n",
    "# with 94.2% probability\n",
    "softmax_reg.predict_proba([[5, 2]])"
   ]
  }
 ],
 "metadata": {
  "kernelspec": {
   "display_name": "Python 3 (ipykernel)",
   "language": "python",
   "name": "python3"
  },
  "language_info": {
   "codemirror_mode": {
    "name": "ipython",
    "version": 3
   },
   "file_extension": ".py",
   "mimetype": "text/x-python",
   "name": "python",
   "nbconvert_exporter": "python",
   "pygments_lexer": "ipython3",
   "version": "3.9.12"
  }
 },
 "nbformat": 4,
 "nbformat_minor": 5
}
